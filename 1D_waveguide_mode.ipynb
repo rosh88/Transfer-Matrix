{
  "nbformat": 4,
  "nbformat_minor": 0,
  "metadata": {
    "colab": {
      "provenance": []
    },
    "kernelspec": {
      "name": "python3",
      "display_name": "Python 3"
    },
    "language_info": {
      "name": "python"
    }
  },
  "cells": [
    {
      "cell_type": "code",
      "execution_count": 47,
      "metadata": {
        "id": "G67aSTkV7Ga1"
      },
      "outputs": [],
      "source": []
    },
    {
      "cell_type": "code",
      "source": [
        "import numpy as np\n",
        "import matplotlib.pyplot as plt\n",
        "import math\n",
        "%matplotlib inline"
      ],
      "metadata": {
        "id": "82wnGEnj7Kaf"
      },
      "execution_count": 48,
      "outputs": []
    },
    {
      "cell_type": "code",
      "source": [
        "## constant value\n",
        "n1 = 3.4778  ## core ref indes\n",
        "n2 = 1.4657  ## lower ref index\n",
        "n3 = 1.000  ## upper ref index\n",
        "lamda = 1550e-9\n",
        "d = 220e-9"
      ],
      "metadata": {
        "id": "asRKNUFX7QtJ"
      },
      "execution_count": 69,
      "outputs": []
    },
    {
      "cell_type": "code",
      "source": [
        "## critical angle\n",
        "theta_cl = np.arcsin(n2/n1)*(np.pi/180)  ##for lower clad\n",
        "theta_cu = np.arcsin(n3/n1)*(np.pi/180)  ## for upper clad"
      ],
      "metadata": {
        "id": "BD6S9iY39ypL"
      },
      "execution_count": 70,
      "outputs": []
    },
    {
      "cell_type": "code",
      "source": [
        "## critical angle\n",
        "theta_cl = np.arcsin(n2/n1)  ##for lower clad\n",
        "theta_cu = np.arcsin(n3/n1)  #### for upper clad"
      ],
      "metadata": {
        "id": "rEbIZAgNMlHC"
      },
      "execution_count": 71,
      "outputs": []
    },
    {
      "cell_type": "code",
      "source": [
        "theta_cu"
      ],
      "metadata": {
        "colab": {
          "base_uri": "https://localhost:8080/"
        },
        "id": "JKq3puo1_uc7",
        "outputId": "bb03ed15-fff2-4489-ad39-f1dfe496fb24"
      },
      "execution_count": 72,
      "outputs": [
        {
          "output_type": "execute_result",
          "data": {
            "text/plain": [
              "0.2916553888392778"
            ]
          },
          "metadata": {},
          "execution_count": 72
        }
      ]
    },
    {
      "cell_type": "code",
      "source": [
        "theta_cl"
      ],
      "metadata": {
        "colab": {
          "base_uri": "https://localhost:8080/"
        },
        "id": "XgpZguy9MdPF",
        "outputId": "06e25771-1142-4152-ee8f-67aebaef6fd7"
      },
      "execution_count": 73,
      "outputs": [
        {
          "output_type": "execute_result",
          "data": {
            "text/plain": [
              "0.4350377014782975"
            ]
          },
          "metadata": {},
          "execution_count": 73
        }
      ]
    },
    {
      "cell_type": "code",
      "source": [
        "theta = np.arange(np.pi/4,np.pi/2,0.001)\n",
        "y = np.sin(theta)\n",
        "plt.plot(theta,y)"
      ],
      "metadata": {
        "colab": {
          "base_uri": "https://localhost:8080/",
          "height": 283
        },
        "id": "XlZvu3nR81lF",
        "outputId": "948d5107-4975-4b07-f7e8-771e269afed3"
      },
      "execution_count": 102,
      "outputs": [
        {
          "output_type": "execute_result",
          "data": {
            "text/plain": [
              "[<matplotlib.lines.Line2D at 0x7fcfc83d2880>]"
            ]
          },
          "metadata": {},
          "execution_count": 102
        },
        {
          "output_type": "display_data",
          "data": {
            "text/plain": [
              "<Figure size 432x288 with 1 Axes>"
            ],
            "image/png": "[encoded data removed]"
          },
          "metadata": {
            "needs_background": "light"
          }
        }
      ]
    },
    {
      "cell_type": "code",
      "source": [
        "m = int(input(\"Enter mode value : \"))"
      ],
      "metadata": {
        "colab": {
          "base_uri": "https://localhost:8080/"
        },
        "id": "9VwkFqxyCBpH",
        "outputId": "842e2857-6561-4aa2-e454-a3ca8e46104b"
      },
      "execution_count": 96,
      "outputs": [
        {
          "name": "stdout",
          "output_type": "stream",
          "text": [
            "Enter mode value : 0\n"
          ]
        }
      ]
    },
    {
      "cell_type": "code",
      "source": [
        "###  variable\n",
        "y1 = 2.0*d*(2.0*np.pi/lamda)*n1**np.cos(theta)\n",
        "plt.plot(theta,y1)"
      ],
      "metadata": {
        "colab": {
          "base_uri": "https://localhost:8080/",
          "height": 283
        },
        "id": "rDkvxvscDUS1",
        "outputId": "00b770bf-1187-401c-ce29-f3c324c11057"
      },
      "execution_count": 103,
      "outputs": [
        {
          "output_type": "execute_result",
          "data": {
            "text/plain": [
              "[<matplotlib.lines.Line2D at 0x7fcfc83abdc0>]"
            ]
          },
          "metadata": {},
          "execution_count": 103
        },
        {
          "output_type": "display_data",
          "data": {
            "text/plain": [
              "<Figure size 432x288 with 1 Axes>"
            ],
            "image/png": "[encoded data removed]"
          },
          "metadata": {
            "needs_background": "light"
          }
        }
      ]
    },
    {
      "cell_type": "code",
      "source": [
        "kl = n2*np.sqrt(((n1/n2)**2) * (np.sin(theta)**2) - 1)\n",
        "phi_l = 2.0*np.arctan(kl/(n1*np.cos(theta)))\n"
      ],
      "metadata": {
        "id": "wHTHapdoHONf"
      },
      "execution_count": 104,
      "outputs": []
    },
    {
      "cell_type": "code",
      "source": [
        "ku = n3*np.sqrt(((n1/n3)**2) * (np.sin(theta)**2) - 1)\n",
        "phi_u = 2.0*np.arctan(ku/(n1*np.cos(theta)))\n"
      ],
      "metadata": {
        "id": "W2zLxraJK3dj"
      },
      "execution_count": 105,
      "outputs": []
    },
    {
      "cell_type": "code",
      "source": [
        "plt.plot(theta,phi_u)"
      ],
      "metadata": {
        "colab": {
          "base_uri": "https://localhost:8080/",
          "height": 283
        },
        "id": "F4uN0iJKO7ks",
        "outputId": "203e6518-80a6-4208-bc94-0460dd4bf29c"
      },
      "execution_count": 107,
      "outputs": [
        {
          "output_type": "execute_result",
          "data": {
            "text/plain": [
              "[<matplotlib.lines.Line2D at 0x7fcfc82ec1f0>]"
            ]
          },
          "metadata": {},
          "execution_count": 107
        },
        {
          "output_type": "display_data",
          "data": {
            "text/plain": [
              "<Figure size 432x288 with 1 Axes>"
            ],
            "image/png": "[encoded data removed]"
          },
          "metadata": {
            "needs_background": "light"
          }
        }
      ]
    },
    {
      "cell_type": "code",
      "source": [
        "y2 = 2.0*m*np.pi + phi_l +phi_u\n",
        "plt.plot(theta,y2,\"r\" , theta,y1, \"g\")"
      ],
      "metadata": {
        "colab": {
          "base_uri": "https://localhost:8080/",
          "height": 301
        },
        "id": "HLHwFTUFLGTG",
        "outputId": "53dcb20c-e358-4aed-875c-d9a3c4a14f73"
      },
      "execution_count": 109,
      "outputs": [
        {
          "output_type": "execute_result",
          "data": {
            "text/plain": [
              "[<matplotlib.lines.Line2D at 0x7fcfc875c9a0>,\n",
              " <matplotlib.lines.Line2D at 0x7fcfc875c2e0>]"
            ]
          },
          "metadata": {},
          "execution_count": 109
        },
        {
          "output_type": "display_data",
          "data": {
            "text/plain": [
              "<Figure size 432x288 with 1 Axes>"
            ],
            "image/png": "[encoded data removed]"
          },
          "metadata": {
            "needs_background": "light"
          }
        }
      ]
    }
  ]
}