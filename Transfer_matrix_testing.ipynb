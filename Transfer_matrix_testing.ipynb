{
  "nbformat": 4,
  "nbformat_minor": 0,
  "metadata": {
    "colab": {
      "provenance": []
    },
    "kernelspec": {
      "name": "python3",
      "display_name": "Python 3"
    },
    "language_info": {
      "name": "python"
    }
  },
  "cells": [
    {
      "cell_type": "code",
      "execution_count": null,
      "metadata": {
        "id": "LGqU-heVbk9s"
      },
      "outputs": [],
      "source": []
    },
    {
      "cell_type": "code",
      "source": [
        "!pip install tmm"
      ],
      "metadata": {
        "colab": {
          "base_uri": "https://localhost:8080/"
        },
        "id": "D5n5xUPrblq8",
        "outputId": "5096186d-0a4e-4de5-e7c3-14600861c410"
      },
      "execution_count": null,
      "outputs": [
        {
          "output_type": "stream",
          "name": "stdout",
          "text": [
            "Looking in indexes: https://pypi.org/simple, https://us-python.pkg.dev/colab-wheels/public/simple/\n",
            "Collecting tmm\n",
            "  Downloading tmm-0.1.8.tar.gz (284 kB)\n",
            "\u001b[2K     \u001b[90m━━━━━━━━━━━━━━━━━━━━━━━━━━━━━━━━━━━━━━━\u001b[0m \u001b[32m284.4/284.4 KB\u001b[0m \u001b[31m5.0 MB/s\u001b[0m eta \u001b[36m0:00:00\u001b[0m\n",
            "\u001b[?25h  Preparing metadata (setup.py) ... \u001b[?25l\u001b[?25hdone\n",
            "Building wheels for collected packages: tmm\n",
            "  Building wheel for tmm (setup.py) ... \u001b[?25l\u001b[?25hdone\n",
            "  Created wheel for tmm: filename=tmm-0.1.8-py3-none-any.whl size=284835 sha256=98e1182103561a244c893dd006b94c9ce6c22a11abf2dbce1523d202614cce37\n",
            "  Stored in directory: /root/.cache/pip/wheels/5f/68/5e/1e0512c1868f9289f8217f5add2bbf35080821de68390dadb6\n",
            "Successfully built tmm\n",
            "Installing collected packages: tmm\n",
            "Successfully installed tmm-0.1.8\n"
          ]
        }
      ]
    },
    {
      "cell_type": "code",
      "source": [
        "from __future__ import division, print_function, absolute_import\n",
        "\n",
        "from tmm import (coh_tmm, unpolarized_RT, ellips,\n",
        "                       position_resolved, find_in_structure_with_inf)\n",
        "\n",
        "from numpy import pi, linspace, inf, array\n",
        "from scipy.interpolate import interp1d\n",
        "import matplotlib.pyplot as plt\n",
        "%matplotlib inline"
      ],
      "metadata": {
        "id": "o5DBIaYxbxuN"
      },
      "execution_count": null,
      "outputs": []
    },
    {
      "cell_type": "code",
      "source": [
        "degree = pi/180\n",
        "# list of layer thicknesses in nm\n",
        "#d_list = [inf,  100,,10000,10000,10000,10000,10000, inf]\n",
        "# list of refractive indices\n",
        "#n_list = [1, 5.03 + 0.34j, 3.5 + 0.0j, 1]\n",
        "#n_list = [1 ,  3.5 + 0j, 1]\n",
        "n_list = [1.0, 3.5, 1.5,3.5,1.0,3.5,1.5,3.5,1.0]\n",
        "\n",
        "# wavelength in nm\n",
        "#lam_vac = 1550\n",
        "lam = 1550.0\n",
        "#lambda_list = linspace(1500,1800,50)\n",
        "d_list = [inf, lam/(4.0*n_list[1]),lam/(4.0*n_list[2]),lam/(4.0*n_list[3]),lam/(4.0*n_list[4].real),lam/(4.0*n_list[5]),lam/(4.0*n_list[6]),lam/(4.0*n_list[7]),inf]\n",
        "## angle\n",
        "theta = 0*degree\n",
        "lambda_list = linspace(1500,1600,100)\n",
        "# list of angles to plot\n",
        "#theta_list = linspace(0*degree, 89*degree, num=300)\n",
        "# initialize lists of y-values to plot\n",
        "Rp = []\n",
        "Tp = []\n",
        "Ap = []\n",
        "for lam_vac in lambda_list:\n",
        "#for theta in theta_list:\n",
        "    Rp.append(coh_tmm('s', n_list, d_list, theta, lam_vac)['R'])\n",
        "    Tp.append(coh_tmm('s',n_list,d_list,theta,lam_vac)['T'])\n",
        "    A = 1.0 - ((coh_tmm('s', n_list, d_list, theta, lam_vac)['R'])+(coh_tmm('s', n_list, d_list, theta, lam_vac)['T']))\n",
        "    Ap.append(A)\n",
        "plt.figure()\n",
        "#plt.plot(theta_list/degree, Rp, 'blue')\n",
        "plt.plot(lambda_list, Rp, 'blue')\n",
        "#plt.plot(theta_list/degree, Tp, 'green')\n",
        "plt.plot(lambda_list, Tp, 'green')\n",
        "#plt.plot(theta_list/degree, Ap, 'red')\n",
        "plt.plot(lambda_list, Ap, 'red')\n",
        "#plt.xlabel('lambda)')\n",
        "plt.ylabel('Fraction reflected')\n",
        "plt.xlim(1500, 1600)\n",
        "plt.ylim(0, 1)\n",
        "print(d_list)"
      ],
      "metadata": {
        "colab": {
          "base_uri": "https://localhost:8080/",
          "height": 287
        },
        "id": "cgHFEg6pb0au",
        "outputId": "61841e6c-893c-45f5-e3c8-e58d5aff7eeb"
      },
      "execution_count": null,
      "outputs": [
        {
          "output_type": "stream",
          "name": "stdout",
          "text": [
            "[inf, 110.71428571428571, 258.3333333333333, 110.71428571428571, 387.5, 110.71428571428571, 258.3333333333333, 110.71428571428571, inf]\n"
          ]
        },
        {
          "output_type": "display_data",
          "data": {
            "text/plain": [
              "<Figure size 432x288 with 1 Axes>"
            ],
            "image/png": "[encoded data removed]"
          },
          "metadata": {
            "needs_background": "light"
          }
        }
      ]
    }
  ]
}