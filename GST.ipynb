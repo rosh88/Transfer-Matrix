{
 "cells": [
  {
   "cell_type": "code",
   "execution_count": null,
   "metadata": {},
   "outputs": [],
   "source": []
  },
  {
   "cell_type": "code",
   "execution_count": 44,
   "metadata": {},
   "outputs": [],
   "source": [
    "## library\n",
    "import numpy as np\n",
    "import matplotlib.pyplot as plt\n",
    "import math\n",
    "import scipy"
   ]
  },
  {
   "cell_type": "code",
   "execution_count": 45,
   "metadata": {},
   "outputs": [],
   "source": [
    "def snell(n1, n2,theta):\n",
    "    theta_1_rad = np.radians(theta)\n",
    "    theta_2_rad = np.arcsin(n1 / n2 * np.sin(theta_1_rad)).astype(float)\n",
    "    return np.degrees(theta_2_rad)"
   ]
  },
  {
   "cell_type": "code",
   "execution_count": 46,
   "metadata": {},
   "outputs": [],
   "source": [
    "def crit_ang(n1, n2):\n",
    "    if (n2.real<n1.real):\n",
    "        return np.degrees(np.arcsin(n2.real / n1.real).astype(float))\n",
    "    else:\n",
    "        return print (\"There is no critical angle for the pair of medium.\")"
   ]
  },
  {
   "cell_type": "code",
   "execution_count": 47,
   "metadata": {},
   "outputs": [],
   "source": [
    "def TRS(n1,n2,ang1,ang2):\n",
    "    rs = (n1*np.cos(ang1*np.pi/180)-n2*np.cos(ang2*np.pi/180)) / (n1*np.cos(ang1*np.pi/180)+n2*np.cos(ang2*np.pi/180))\n",
    "    rp = (n2*np.cos(ang1*np.pi/180)-n1*np.cos(ang2*np.pi/180)) / (n2*np.cos(ang1*np.pi/180)+n1*np.cos(ang2*np.pi/180))\n",
    "    ts = (2.0*n1*np.cos(ang1*np.pi/180)) / (n1*np.cos(ang1*np.pi/180)+n2*np.cos(ang2*np.pi/180))\n",
    "    tp = (2.0*n1*np.cos(ang1*np.pi/180)) / (n2*np.cos(ang1*np.pi/180)+n1*np.cos(ang2*np.pi/180))\n",
    "    return rs,rp,ts,tp"
   ]
  },
  {
   "cell_type": "code",
   "execution_count": 48,
   "metadata": {},
   "outputs": [],
   "source": [
    "def Matrix(rho,delta):\n",
    "    M = [[np.exp(delta*1j),rho*np.exp(delta*1j)],[rho*np.exp(-delta*1j),np.exp(-delta*1j)]]\n",
    "    return M"
   ]
  },
  {
   "cell_type": "code",
   "execution_count": 49,
   "metadata": {},
   "outputs": [],
   "source": [
    "## input variable\n",
    "w_l = 1550e-9\n",
    "k0 = 2.0 * np.pi / w_l"
   ]
  },
  {
   "cell_type": "code",
   "execution_count": 50,
   "metadata": {},
   "outputs": [],
   "source": [
    "theta_inc = 0"
   ]
  },
  {
   "cell_type": "code",
   "execution_count": 56,
   "metadata": {},
   "outputs": [],
   "source": [
    "## Thichness of Layers\n",
    "#L1 = [5e-9,10e-6,15e-9,20e-9, 25e-9,30e-9,35e-9,40e-9]\n",
    "L2 = [10e-6,15e-6,20e-6, 25e-6,30e-6,35e-6,40e-6,50e-6,55e-6,60e-6,70e-6,80e-6]\n",
    "L1 = 20e-9\n",
    "#L2 = 20e-9"
   ]
  },
  {
   "cell_type": "code",
   "execution_count": 62,
   "metadata": {},
   "outputs": [
    {
     "name": "stdout",
     "output_type": "stream",
     "text": [
      "12\n",
      "12\n",
      "12\n"
     ]
    }
   ],
   "source": [
    "### Matrix formation\n",
    "R = []\n",
    "A = []\n",
    "T = []\n",
    "\n",
    "for i in range(len(L2)):\n",
    "    ## 1st interface\n",
    "    n_a = 1.0 \n",
    "    #n_gst = 4.3 + 0.0*1j   ## crystalline\n",
    "    #n_gst = 4.3 + 0.34*1j ## crystalline\n",
    "    n_gst = 3.0 + 0.00*1j ## amourphous\n",
    "    ref_ang = snell(n1=n_a, n2=n_gst.real,theta=theta_inc)\n",
    "    rs1,rp1,ts1,tp1 = TRS(n1=n_a,n2=n_gst,ang1=theta_inc,ang2=ref_ang)\n",
    "    delta = (2.0*np.pi*n_gst*0*np.cos(ref_ang*np.pi/180))/w_l\n",
    "    M1 = Matrix(rs1,delta)\n",
    "    ## 2nd interface\n",
    "    #n_gst = 4.3 + 0.34*1j  ## crystalline\n",
    "    #n_gst = 4.3 + 0.0*1j  ## crystalline\n",
    "    n_gst = 3.0 + 0.0*1j ## amourphous\n",
    "    #n_Al = 1.57 - 15.65*1j  ## Al\n",
    "    n_Si = 1.00 + 0.0*1j \n",
    "    ref_ang2 = snell(n1=n_gst.real, n2=n_Si.real,theta=ref_ang)\n",
    "    rs2,rp2,ts2,tp2 = TRS(n1=n_gst, n2=n_Si,ang1=ref_ang,ang2=ref_ang2)\n",
    "    delta2 = (2.0*np.pi*n_Si*L1*np.cos(ref_ang2*np.pi/180))/w_l\n",
    "    M2 = Matrix(rs2,delta2)\n",
    "    ### 3rd layer\n",
    "    #n_Al = 1.57 - 15.65*1j  ## Al\n",
    "    n_Si = 1.00 + 0.0*1j\n",
    "    n_a = 1.0\n",
    "    ref_ang3 = snell(n1=n_Si.real, n2=n_a,theta=ref_ang2)\n",
    "    rs3,rp3,ts3,tp3 = TRS(n1=n_Si, n2=n_a,ang1=ref_ang2,ang2=ref_ang3)\n",
    "    delta3 = (2.0*np.pi*n_Si*L2[i]*np.cos(ref_ang3*np.pi/180))/w_l\n",
    "    M3 = Matrix(rs3,delta3)\n",
    "    M_f = np.matmul(M1,M2) \n",
    "    M_f1 = np.matmul(M_f,M3)\n",
    "    M_f1c = np.conj(M_f1)\n",
    "    H1 = M_f1[1][0]*M_f1c[1][0]\n",
    "    H2 = M_f1[0][0]*M_f1c[0][0]\n",
    "    Rs = H1.real/H2.real\n",
    "    T1= ts1*np.conj(ts1)*ts2*np.conj(ts2)*ts3*np.conj(ts3)\n",
    "    Ts = T1.real/H2.real\n",
    "    As = 1.0 - (Ts+Rs)\n",
    "    R.append(Rs)\n",
    "    T.append(Ts)\n",
    "    A.append(As)\n",
    "    \n",
    "print(len(R))\n",
    "print(len(T))\n",
    "print(len(A))\n",
    "\n",
    "\n",
    "\n"
   ]
  },
  {
   "cell_type": "code",
   "execution_count": 63,
   "metadata": {},
   "outputs": [
    {
     "data": {
      "text/plain": [
       "(1e-05, 8e-05)"
      ]
     },
     "execution_count": 63,
     "metadata": {},
     "output_type": "execute_result"
    },
    {
     "data": {
      "image/png": "[encoded data removed]",
      "text/plain": [
       "<Figure size 360x360 with 1 Axes>"
      ]
     },
     "metadata": {
      "needs_background": "light"
     },
     "output_type": "display_data"
    }
   ],
   "source": [
    "plt.figure(figsize=(5, 5))\n",
    "plt.plot(L2,R, 'r', label='Ref')\n",
    "plt.plot(L2,T,'b', label = 'Trans') \n",
    "plt.plot(L2,A, 'g', label='Abs')\n",
    "plt.xlabel('Thichness of GST')  \n",
    "plt.ylabel('T and R coeffient')  # Add a y-label to the axes.\n",
    "plt.title(\"Transmission/Refectance plot of GST(A) at Al thichness_fixed\")  # Add a title to the axes.\n",
    "plt.legend()\n",
    "plt.xlim(10e-6, 80e-6)\n"
   ]
  },
  {
   "cell_type": "code",
   "execution_count": null,
   "metadata": {},
   "outputs": [],
   "source": []
  }
 ],
 "metadata": {
  "kernelspec": {
   "display_name": "Python 3",
   "language": "python",
   "name": "python3"
  },
  "language_info": {
   "codemirror_mode": {
    "name": "ipython",
    "version": 3
   },
   "file_extension": ".py",
   "mimetype": "text/x-python",
   "name": "python",
   "nbconvert_exporter": "python",
   "pygments_lexer": "ipython3",
   "version": "3.7.0"
  }
 },
 "nbformat": 4,
 "nbformat_minor": 4
}
